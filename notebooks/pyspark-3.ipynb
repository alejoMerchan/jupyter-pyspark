{
 "cells": [
  {
   "cell_type": "markdown",
   "metadata": {},
   "source": [
    "# Working with DataFrames"
   ]
  },
  {
   "cell_type": "code",
   "execution_count": null,
   "metadata": {},
   "outputs": [],
   "source": [
    "We have 3 ways to create DFs:\n",
    "    - Programmatically specify the schema of the DataFrame and manually enter the data in it.\n",
    "    - From an existing RDD object in Spark.\n",
    "    - Directly from a data source."
   ]
  },
  {
   "cell_type": "markdown",
   "metadata": {},
   "source": [
    "1- Programmatically specify the schema of the DataFrame and manually enter the data in it"
   ]
  },
  {
   "cell_type": "code",
   "execution_count": 1,
   "metadata": {},
   "outputs": [],
   "source": [
    "from pyspark import SparkContext\n",
    "sc = SparkContext()\n",
    "from pyspark.sql import SQLContext\n",
    "sqlc = SQLContext(sc)\n",
    "\n",
    "from pyspark.sql import *"
   ]
  },
  {
   "cell_type": "code",
   "execution_count": 2,
   "metadata": {},
   "outputs": [],
   "source": [
    "na_schema = Row(\"Name\",\"Age\")"
   ]
  },
  {
   "cell_type": "code",
   "execution_count": 3,
   "metadata": {},
   "outputs": [],
   "source": [
    "row1 = na_schema(\"Juan\", 12)\n",
    "row2 = na_schema(\"Luz\",13)\n",
    "row3 = na_schema(\"Diana\",14)"
   ]
  },
  {
   "cell_type": "code",
   "execution_count": 4,
   "metadata": {},
   "outputs": [
    {
     "data": {
      "text/plain": [
       "list"
      ]
     },
     "execution_count": 4,
     "metadata": {},
     "output_type": "execute_result"
    }
   ],
   "source": [
    "na_list = [row1,row2,row3]\n",
    "type(na_list)\n"
   ]
  },
  {
   "cell_type": "code",
   "execution_count": 5,
   "metadata": {},
   "outputs": [
    {
     "data": {
      "text/plain": [
       "pyspark.sql.dataframe.DataFrame"
      ]
     },
     "execution_count": 5,
     "metadata": {},
     "output_type": "execute_result"
    }
   ],
   "source": [
    "df_na = sqlc.createDataFrame(na_list)\n",
    "type(df_na)"
   ]
  },
  {
   "cell_type": "code",
   "execution_count": 6,
   "metadata": {},
   "outputs": [
    {
     "name": "stdout",
     "output_type": "stream",
     "text": [
      "+-----+---+\n",
      "| Name|Age|\n",
      "+-----+---+\n",
      "| Juan| 12|\n",
      "|  Luz| 13|\n",
      "|Diana| 14|\n",
      "+-----+---+\n",
      "\n"
     ]
    }
   ],
   "source": [
    "df_na.show()"
   ]
  },
  {
   "cell_type": "markdown",
   "metadata": {},
   "source": [
    "2- From an existing RDD object in Spark."
   ]
  },
  {
   "cell_type": "code",
   "execution_count": 7,
   "metadata": {},
   "outputs": [
    {
     "data": {
      "text/plain": [
       "pyspark.rdd.RDD"
      ]
     },
     "execution_count": 7,
     "metadata": {},
     "output_type": "execute_result"
    }
   ],
   "source": [
    "data = [(\"Juan\", 12),(\"Luz\",13),(\"Diana\",14)]\n",
    "data_rdd = sc.parallelize(data)\n",
    "type(data_rdd)"
   ]
  },
  {
   "cell_type": "code",
   "execution_count": 8,
   "metadata": {},
   "outputs": [
    {
     "data": {
      "text/plain": [
       "pyspark.sql.dataframe.DataFrame"
      ]
     },
     "execution_count": 8,
     "metadata": {},
     "output_type": "execute_result"
    }
   ],
   "source": [
    "data_df = sqlc.createDataFrame(data_rdd)\n",
    "type(data_df)"
   ]
  },
  {
   "cell_type": "code",
   "execution_count": 9,
   "metadata": {},
   "outputs": [
    {
     "name": "stdout",
     "output_type": "stream",
     "text": [
      "+-----+---+\n",
      "|   _1| _2|\n",
      "+-----+---+\n",
      "| Juan| 12|\n",
      "|  Luz| 13|\n",
      "|Diana| 14|\n",
      "+-----+---+\n",
      "\n"
     ]
    }
   ],
   "source": [
    "data_df.show()"
   ]
  },
  {
   "cell_type": "markdown",
   "metadata": {},
   "source": [
    "3- Directly from a data source."
   ]
  },
  {
   "cell_type": "code",
   "execution_count": 10,
   "metadata": {},
   "outputs": [
    {
     "data": {
      "text/plain": [
       "pyspark.sql.dataframe.DataFrame"
      ]
     },
     "execution_count": 10,
     "metadata": {},
     "output_type": "execute_result"
    }
   ],
   "source": [
    "df = sqlc.read.format('com.databricks.spark.csv').options(header='true', inferschema='true').load('iris.csv')\n",
    "type(df)"
   ]
  },
  {
   "cell_type": "code",
   "execution_count": 11,
   "metadata": {},
   "outputs": [
    {
     "name": "stdout",
     "output_type": "stream",
     "text": [
      "+------------+-----------+------------+-----------+-------+\n",
      "|sepal_length|sepal_width|petal_length|petal_width|species|\n",
      "+------------+-----------+------------+-----------+-------+\n",
      "|         5.1|        3.5|         1.4|        0.2| setosa|\n",
      "|         4.9|        3.0|         1.4|        0.2| setosa|\n",
      "|         4.7|        3.2|         1.3|        0.2| setosa|\n",
      "|         4.6|        3.1|         1.5|        0.2| setosa|\n",
      "+------------+-----------+------------+-----------+-------+\n",
      "only showing top 4 rows\n",
      "\n"
     ]
    }
   ],
   "source": [
    "df.show(4)"
   ]
  },
  {
   "cell_type": "markdown",
   "metadata": {},
   "source": [
    "Looking the DF schema"
   ]
  },
  {
   "cell_type": "code",
   "execution_count": 12,
   "metadata": {},
   "outputs": [
    {
     "name": "stdout",
     "output_type": "stream",
     "text": [
      "root\n",
      " |-- sepal_length: double (nullable = true)\n",
      " |-- sepal_width: double (nullable = true)\n",
      " |-- petal_length: double (nullable = true)\n",
      " |-- petal_width: double (nullable = true)\n",
      " |-- species: string (nullable = true)\n",
      "\n"
     ]
    }
   ],
   "source": [
    "df.printSchema()"
   ]
  },
  {
   "cell_type": "code",
   "execution_count": 13,
   "metadata": {},
   "outputs": [
    {
     "data": {
      "text/plain": [
       "['sepal_length', 'sepal_width', 'petal_length', 'petal_width', 'species']"
      ]
     },
     "execution_count": 13,
     "metadata": {},
     "output_type": "execute_result"
    }
   ],
   "source": [
    "df.schema.names"
   ]
  },
  {
   "cell_type": "code",
   "execution_count": 14,
   "metadata": {},
   "outputs": [
    {
     "data": {
      "text/plain": [
       "150"
      ]
     },
     "execution_count": 14,
     "metadata": {},
     "output_type": "execute_result"
    }
   ],
   "source": [
    "## number of rows\n",
    "df.count()"
   ]
  },
  {
   "cell_type": "code",
   "execution_count": 15,
   "metadata": {},
   "outputs": [
    {
     "data": {
      "text/plain": [
       "5"
      ]
     },
     "execution_count": 15,
     "metadata": {},
     "output_type": "execute_result"
    }
   ],
   "source": [
    "## number of columns\n",
    "len(df.columns)"
   ]
  },
  {
   "cell_type": "code",
   "execution_count": 16,
   "metadata": {},
   "outputs": [
    {
     "name": "stdout",
     "output_type": "stream",
     "text": [
      "+-------+------------------+-------------------+------------------+------------------+---------+\n",
      "|summary|      sepal_length|        sepal_width|      petal_length|       petal_width|  species|\n",
      "+-------+------------------+-------------------+------------------+------------------+---------+\n",
      "|  count|               150|                150|               150|               150|      150|\n",
      "|   mean| 5.843333333333335| 3.0540000000000007|3.7586666666666693|1.1986666666666672|     null|\n",
      "| stddev|0.8280661279778637|0.43359431136217375| 1.764420419952262|0.7631607417008414|     null|\n",
      "|    min|               4.3|                2.0|               1.0|               0.1|   setosa|\n",
      "|    max|               7.9|                4.4|               6.9|               2.5|virginica|\n",
      "+-------+------------------+-------------------+------------------+------------------+---------+\n",
      "\n"
     ]
    }
   ],
   "source": [
    "## get statistics of all the columns\n",
    "df.describe().show()"
   ]
  },
  {
   "cell_type": "code",
   "execution_count": 17,
   "metadata": {},
   "outputs": [
    {
     "name": "stdout",
     "output_type": "stream",
     "text": [
      "+-------+------------------+\n",
      "|summary|      sepal_length|\n",
      "+-------+------------------+\n",
      "|  count|               150|\n",
      "|   mean| 5.843333333333335|\n",
      "| stddev|0.8280661279778637|\n",
      "|    min|               4.3|\n",
      "|    max|               7.9|\n",
      "+-------+------------------+\n",
      "\n"
     ]
    }
   ],
   "source": [
    "## get statistics of individual column\n",
    "df.describe('sepal_length').show()"
   ]
  },
  {
   "cell_type": "code",
   "execution_count": 18,
   "metadata": {},
   "outputs": [
    {
     "name": "stdout",
     "output_type": "stream",
     "text": [
      "+------------+----------+------------+-----------+-------+\n",
      "|sepal_length|SepalWidth|petal_length|petal_width|species|\n",
      "+------------+----------+------------+-----------+-------+\n",
      "|         5.1|       3.5|         1.4|        0.2| setosa|\n",
      "|         4.9|       3.0|         1.4|        0.2| setosa|\n",
      "|         4.7|       3.2|         1.3|        0.2| setosa|\n",
      "|         4.6|       3.1|         1.5|        0.2| setosa|\n",
      "+------------+----------+------------+-----------+-------+\n",
      "only showing top 4 rows\n",
      "\n"
     ]
    }
   ],
   "source": [
    "# renaming columns form the DataFrame\n",
    "df = df.withColumnRenamed('sepal_width','SepalWidth')\n",
    "df.show(4)"
   ]
  },
  {
   "cell_type": "code",
   "execution_count": 19,
   "metadata": {},
   "outputs": [
    {
     "name": "stdout",
     "output_type": "stream",
     "text": [
      "+----------+------------+\n",
      "|SepalWidth|sepal_length|\n",
      "+----------+------------+\n",
      "|       3.5|         5.1|\n",
      "|       3.0|         4.9|\n",
      "|       3.2|         4.7|\n",
      "|       3.1|         4.6|\n",
      "+----------+------------+\n",
      "only showing top 4 rows\n",
      "\n"
     ]
    }
   ],
   "source": [
    "# selection columns\n",
    "df.select('SepalWidth','sepal_length').show(4)"
   ]
  },
  {
   "cell_type": "markdown",
   "metadata": {},
   "source": [
    "Adding and Removing Columns"
   ]
  },
  {
   "cell_type": "code",
   "execution_count": 20,
   "metadata": {},
   "outputs": [
    {
     "name": "stdout",
     "output_type": "stream",
     "text": [
      "+------------+----------+------------+-----------+-------+----------------+\n",
      "|sepal_length|SepalWidth|petal_length|petal_width|species|half_sepal_width|\n",
      "+------------+----------+------------+-----------+-------+----------------+\n",
      "|         5.1|       3.5|         1.4|        0.2| setosa|            1.75|\n",
      "|         4.9|       3.0|         1.4|        0.2| setosa|             1.5|\n",
      "|         4.7|       3.2|         1.3|        0.2| setosa|             1.6|\n",
      "|         4.6|       3.1|         1.5|        0.2| setosa|            1.55|\n",
      "+------------+----------+------------+-----------+-------+----------------+\n",
      "only showing top 4 rows\n",
      "\n"
     ]
    }
   ],
   "source": [
    "# Adding a column\n",
    "df = df.withColumn('half_sepal_width', df['SepalWidth']/2.0)\n",
    "df.show(4)"
   ]
  },
  {
   "cell_type": "code",
   "execution_count": 21,
   "metadata": {},
   "outputs": [
    {
     "name": "stdout",
     "output_type": "stream",
     "text": [
      "+------------+----------+------------+-----------+-------+\n",
      "|sepal_length|SepalWidth|petal_length|petal_width|species|\n",
      "+------------+----------+------------+-----------+-------+\n",
      "|         5.1|       3.5|         1.4|        0.2| setosa|\n",
      "|         4.9|       3.0|         1.4|        0.2| setosa|\n",
      "|         4.7|       3.2|         1.3|        0.2| setosa|\n",
      "|         4.6|       3.1|         1.5|        0.2| setosa|\n",
      "+------------+----------+------------+-----------+-------+\n",
      "only showing top 4 rows\n",
      "\n"
     ]
    }
   ],
   "source": [
    "# Removing a column\n",
    "df = df.drop('half_sepal_width')\n",
    "df.show(4)"
   ]
  },
  {
   "cell_type": "markdown",
   "metadata": {},
   "source": [
    "Distinct Values"
   ]
  },
  {
   "cell_type": "code",
   "execution_count": 22,
   "metadata": {},
   "outputs": [
    {
     "name": "stdout",
     "output_type": "stream",
     "text": [
      "+----------+\n",
      "|   species|\n",
      "+----------+\n",
      "| virginica|\n",
      "|versicolor|\n",
      "|    setosa|\n",
      "+----------+\n",
      "\n"
     ]
    }
   ],
   "source": [
    "df.select('species').distinct().show()"
   ]
  },
  {
   "cell_type": "markdown",
   "metadata": {},
   "source": [
    "Removing Duplicate Rows and Fitering"
   ]
  },
  {
   "cell_type": "code",
   "execution_count": 23,
   "metadata": {},
   "outputs": [
    {
     "name": "stdout",
     "output_type": "stream",
     "text": [
      "+----------+\n",
      "|   species|\n",
      "+----------+\n",
      "| virginica|\n",
      "|versicolor|\n",
      "|    setosa|\n",
      "+----------+\n",
      "\n"
     ]
    }
   ],
   "source": [
    "df.select('species').dropDuplicates().show()"
   ]
  },
  {
   "cell_type": "code",
   "execution_count": 24,
   "metadata": {},
   "outputs": [
    {
     "name": "stdout",
     "output_type": "stream",
     "text": [
      "+------------+----------+------------+-----------+-------+\n",
      "|sepal_length|SepalWidth|petal_length|petal_width|species|\n",
      "+------------+----------+------------+-----------+-------+\n",
      "|         5.1|       3.5|         1.4|        0.2| setosa|\n",
      "|         4.9|       3.0|         1.4|        0.2| setosa|\n",
      "|         4.7|       3.2|         1.3|        0.2| setosa|\n",
      "|         4.6|       3.1|         1.5|        0.2| setosa|\n",
      "+------------+----------+------------+-----------+-------+\n",
      "only showing top 4 rows\n",
      "\n"
     ]
    }
   ],
   "source": [
    "df.filter(df.species == 'setosa').show(4)"
   ]
  },
  {
   "cell_type": "code",
   "execution_count": 25,
   "metadata": {},
   "outputs": [
    {
     "name": "stdout",
     "output_type": "stream",
     "text": [
      "+------------+----------+------------+-----------+-------+\n",
      "|sepal_length|SepalWidth|petal_length|petal_width|species|\n",
      "+------------+----------+------------+-----------+-------+\n",
      "|         5.1|       3.5|         1.4|        0.2| setosa|\n",
      "|         5.4|       3.9|         1.7|        0.4| setosa|\n",
      "|         5.4|       3.7|         1.5|        0.2| setosa|\n",
      "|         5.8|       4.0|         1.2|        0.2| setosa|\n",
      "+------------+----------+------------+-----------+-------+\n",
      "only showing top 4 rows\n",
      "\n"
     ]
    }
   ],
   "source": [
    "df.filter((df.sepal_length > 5)&(df.species == 'setosa')).show(4)"
   ]
  },
  {
   "cell_type": "markdown",
   "metadata": {},
   "source": [
    "Ordering"
   ]
  },
  {
   "cell_type": "code",
   "execution_count": 26,
   "metadata": {},
   "outputs": [
    {
     "name": "stdout",
     "output_type": "stream",
     "text": [
      "+------------+----------+------------+-----------+-------+\n",
      "|sepal_length|SepalWidth|petal_length|petal_width|species|\n",
      "+------------+----------+------------+-----------+-------+\n",
      "|         4.3|       3.0|         1.1|        0.1| setosa|\n",
      "|         4.4|       3.2|         1.3|        0.2| setosa|\n",
      "|         4.4|       3.0|         1.3|        0.2| setosa|\n",
      "|         4.4|       2.9|         1.4|        0.2| setosa|\n",
      "|         4.5|       2.3|         1.3|        0.3| setosa|\n",
      "+------------+----------+------------+-----------+-------+\n",
      "only showing top 5 rows\n",
      "\n"
     ]
    }
   ],
   "source": [
    "## by default is ascending\n",
    "df.orderBy(df.sepal_length).show(5)"
   ]
  },
  {
   "cell_type": "code",
   "execution_count": 27,
   "metadata": {},
   "outputs": [
    {
     "name": "stdout",
     "output_type": "stream",
     "text": [
      "+------------+----------+------------+-----------+---------+\n",
      "|sepal_length|SepalWidth|petal_length|petal_width|  species|\n",
      "+------------+----------+------------+-----------+---------+\n",
      "|         7.9|       3.8|         6.4|        2.0|virginica|\n",
      "|         7.7|       2.6|         6.9|        2.3|virginica|\n",
      "|         7.7|       3.8|         6.7|        2.2|virginica|\n",
      "|         7.7|       3.0|         6.1|        2.3|virginica|\n",
      "|         7.7|       2.8|         6.7|        2.0|virginica|\n",
      "+------------+----------+------------+-----------+---------+\n",
      "only showing top 5 rows\n",
      "\n"
     ]
    }
   ],
   "source": [
    "## descending\n",
    "df.orderBy(df.sepal_length.desc()).show(5)"
   ]
  },
  {
   "cell_type": "markdown",
   "metadata": {},
   "source": [
    "Aggregating Values"
   ]
  },
  {
   "cell_type": "code",
   "execution_count": 28,
   "metadata": {},
   "outputs": [
    {
     "name": "stdout",
     "output_type": "stream",
     "text": [
      "+----------+------------------+\n",
      "|   species|   avg(SepalWidth)|\n",
      "+----------+------------------+\n",
      "| virginica|2.9739999999999998|\n",
      "|versicolor|2.7700000000000005|\n",
      "|    setosa|3.4180000000000006|\n",
      "+----------+------------------+\n",
      "\n"
     ]
    }
   ],
   "source": [
    "df.groupBy('species').agg({'SepalWidth':'mean'}).show()"
   ]
  },
  {
   "cell_type": "code",
   "execution_count": 29,
   "metadata": {},
   "outputs": [
    {
     "name": "stdout",
     "output_type": "stream",
     "text": [
      "+----------+-----+\n",
      "|   species|count|\n",
      "+----------+-----+\n",
      "| virginica|   50|\n",
      "|versicolor|   50|\n",
      "|    setosa|   50|\n",
      "+----------+-----+\n",
      "\n"
     ]
    }
   ],
   "source": [
    "df.groupBy('species').count().show()"
   ]
  },
  {
   "cell_type": "code",
   "execution_count": null,
   "metadata": {},
   "outputs": [],
   "source": []
  }
 ],
 "metadata": {
  "kernelspec": {
   "display_name": "Python 3",
   "language": "python",
   "name": "python3"
  },
  "language_info": {
   "codemirror_mode": {
    "name": "ipython",
    "version": 3
   },
   "file_extension": ".py",
   "mimetype": "text/x-python",
   "name": "python",
   "nbconvert_exporter": "python",
   "pygments_lexer": "ipython3",
   "version": "3.7.6"
  }
 },
 "nbformat": 4,
 "nbformat_minor": 4
}
